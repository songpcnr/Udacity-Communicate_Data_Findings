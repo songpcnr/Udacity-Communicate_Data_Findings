{
 "cells": [
  {
   "cell_type": "markdown",
   "metadata": {},
   "source": [
    "# Project: Communicate Data Findings Using Python\n",
    "## by Song R.\n",
    "\n",
    "## Preliminary Wrangling\n",
    "\n",
    "> This document includes analysis about individual rides covering areas in the greater San Francisco Bay made in a bike-sharing system named 'Lyft'. The dataset can be found in Bay Wheels's trip data (renamed from Ford GoBike System Data). Only March 2020 data is used in this analysis."
   ]
  },
  {
   "cell_type": "code",
   "execution_count": 1,
   "metadata": {},
   "outputs": [],
   "source": [
    "# import all packages and set plots to be embedded inline:\n",
    "import numpy as np\n",
    "import pandas as pd\n",
    "import matplotlib.pyplot as plt\n",
    "import seaborn as sns\n",
    "import time\n",
    "\n",
    "%matplotlib inline"
   ]
  },
  {
   "cell_type": "code",
   "execution_count": 2,
   "metadata": {},
   "outputs": [],
   "source": [
    "# import package to suppress warning messages:\n",
    "import warnings\n",
    "warnings.filterwarnings('ignore')"
   ]
  },
  {
   "cell_type": "code",
   "execution_count": 3,
   "metadata": {},
   "outputs": [],
   "source": [
    "# Read-in dataset:\n",
    "bike_mar2020 = pd.read_csv('bike_trip_mar2020.csv')"
   ]
  },
  {
   "cell_type": "code",
   "execution_count": 4,
   "metadata": {},
   "outputs": [
    {
     "name": "stdout",
     "output_type": "stream",
     "text": [
      "(176799, 14)\n",
      "duration_sec                 int64\n",
      "start_time                  object\n",
      "end_time                    object\n",
      "start_station_id           float64\n",
      "start_station_name          object\n",
      "start_station_latitude     float64\n",
      "start_station_longitude    float64\n",
      "end_station_id             float64\n",
      "end_station_name            object\n",
      "end_station_latitude       float64\n",
      "end_station_longitude      float64\n",
      "bike_id                      int64\n",
      "user_type                   object\n",
      "rental_access_method        object\n",
      "dtype: object\n",
      "   duration_sec                start_time                  end_time  \\\n",
      "0         35187  2020-03-31 20:42:10.0790  2020-04-01 06:28:37.8440   \n",
      "1         14568  2020-03-31 22:45:25.5010  2020-04-01 02:48:13.7730   \n",
      "2         35990  2020-03-31 15:08:22.3310  2020-04-01 01:08:12.9900   \n",
      "3          1068  2020-03-31 23:55:00.4260  2020-04-01 00:12:49.0200   \n",
      "4          3300  2020-03-31 23:00:55.6410  2020-03-31 23:55:56.6110   \n",
      "\n",
      "   start_station_id                             start_station_name  \\\n",
      "0             462.0                     Cruise Terminal at Pier 27   \n",
      "1              42.0  San Francisco City Hall (Polk St at Grove St)   \n",
      "2             391.0                          1st St at Younger Ave   \n",
      "3             456.0                    Arguello Blvd at Geary Blvd   \n",
      "4               6.0                  The Embarcadero at Sansome St   \n",
      "\n",
      "   start_station_latitude  start_station_longitude  end_station_id  \\\n",
      "0               37.804648              -122.402087            24.0   \n",
      "1               37.778650              -122.418230           370.0   \n",
      "2               37.355030              -121.904436           397.0   \n",
      "3               37.781468              -122.458806           107.0   \n",
      "4               37.804770              -122.403234            24.0   \n",
      "\n",
      "        end_station_name  end_station_latitude  end_station_longitude  \\\n",
      "0  Spear St at Folsom St             37.789677            -122.390428   \n",
      "1    Jones St at Post St             37.787327            -122.413278   \n",
      "2      Gish Rd at 1st St             37.361867            -121.909315   \n",
      "3  17th St at Dolores St             37.763015            -122.426497   \n",
      "4  Spear St at Folsom St             37.789677            -122.390428   \n",
      "\n",
      "   bike_id user_type rental_access_method  \n",
      "0    10982  Customer                  NaN  \n",
      "1    12617  Customer                  NaN  \n",
      "2    12812  Customer                  NaN  \n",
      "3    12955  Customer                  NaN  \n",
      "4    13050  Customer                  NaN  \n"
     ]
    }
   ],
   "source": [
    "# Overview of data shape and composition:\n",
    "print(bike_mar2020.shape)\n",
    "print(bike_mar2020.dtypes)\n",
    "print(bike_mar2020.head())"
   ]
  },
  {
   "cell_type": "markdown",
   "metadata": {},
   "source": [
    "## Wrangling steps:"
   ]
  },
  {
   "cell_type": "markdown",
   "metadata": {},
   "source": [
    "### Define data cleaning tasks:\n",
    "\n",
    "1. Select only subset of bike_mar2020: keep only rows that do not contain NaNs in 'start_station_name', 'end_station_name' and 'rental_access_method' columns\n",
    "2. Drop 2 unnecessary columns from the dataset: 'start_station_id' and 'end_station_id'\n",
    "3. Edit data types in bike_clean as follow:\n",
    "    - start_time and end_time should columns be datetime data type\n",
    "    - bike_id column should be object (str) data type\n",
    "4. Convert 'user_type' and 'rental_access_method' into unordered categorical types\n",
    "5. Edit 16th Depot Bike Fleet Station's latitude and longitude to correct number: 37.523692 and -88.838091 respectively\n",
    "6. Create 3 new columns: \n",
    "    - 'duration_min': 'duration_sec' divided by 60 to get duration time in minutes\n",
    "    - 'start_hour': hour part in 'start_time' variable\n",
    "    - 'start_period': period of the day in 'start_hour' variable"
   ]
  },
  {
   "cell_type": "code",
   "execution_count": 5,
   "metadata": {},
   "outputs": [],
   "source": [
    "# Make a copy of bike_mar2020 before cleaning:\n",
    "bike_clean = bike_mar2020.copy()"
   ]
  },
  {
   "cell_type": "markdown",
   "metadata": {},
   "source": [
    "<b>1. Keep only rows that do not contain NaNs in 'start_station_name', 'end_station_name' and 'rental_access_method' </b>"
   ]
  },
  {
   "cell_type": "code",
   "execution_count": 6,
   "metadata": {},
   "outputs": [
    {
     "data": {
      "text/html": [
       "<div>\n",
       "<style scoped>\n",
       "    .dataframe tbody tr th:only-of-type {\n",
       "        vertical-align: middle;\n",
       "    }\n",
       "\n",
       "    .dataframe tbody tr th {\n",
       "        vertical-align: top;\n",
       "    }\n",
       "\n",
       "    .dataframe thead th {\n",
       "        text-align: right;\n",
       "    }\n",
       "</style>\n",
       "<table border=\"1\" class=\"dataframe\">\n",
       "  <thead>\n",
       "    <tr style=\"text-align: right;\">\n",
       "      <th></th>\n",
       "      <th>duration_sec</th>\n",
       "      <th>start_time</th>\n",
       "      <th>end_time</th>\n",
       "      <th>start_station_id</th>\n",
       "      <th>start_station_name</th>\n",
       "      <th>start_station_latitude</th>\n",
       "      <th>start_station_longitude</th>\n",
       "      <th>end_station_id</th>\n",
       "      <th>end_station_name</th>\n",
       "      <th>end_station_latitude</th>\n",
       "      <th>end_station_longitude</th>\n",
       "      <th>bike_id</th>\n",
       "      <th>user_type</th>\n",
       "      <th>rental_access_method</th>\n",
       "    </tr>\n",
       "  </thead>\n",
       "  <tbody>\n",
       "    <tr>\n",
       "      <th>63542</th>\n",
       "      <td>1772</td>\n",
       "      <td>2020-03-31 15:23:58</td>\n",
       "      <td>2020-03-31 15:53:30</td>\n",
       "      <td>473.0</td>\n",
       "      <td>Willow St at Blewett Ave</td>\n",
       "      <td>37.309014</td>\n",
       "      <td>-121.900011</td>\n",
       "      <td>473.0</td>\n",
       "      <td>Willow St at Blewett Ave</td>\n",
       "      <td>37.309014</td>\n",
       "      <td>-121.900011</td>\n",
       "      <td>480691</td>\n",
       "      <td>Subscriber</td>\n",
       "      <td>app</td>\n",
       "    </tr>\n",
       "    <tr>\n",
       "      <th>63543</th>\n",
       "      <td>737</td>\n",
       "      <td>2020-03-26 16:24:05</td>\n",
       "      <td>2020-03-26 16:36:23</td>\n",
       "      <td>473.0</td>\n",
       "      <td>Willow St at Blewett Ave</td>\n",
       "      <td>37.309014</td>\n",
       "      <td>-121.900011</td>\n",
       "      <td>309.0</td>\n",
       "      <td>San Jose City Hall</td>\n",
       "      <td>37.337391</td>\n",
       "      <td>-121.886995</td>\n",
       "      <td>237580</td>\n",
       "      <td>Subscriber</td>\n",
       "      <td>app</td>\n",
       "    </tr>\n",
       "    <tr>\n",
       "      <th>63545</th>\n",
       "      <td>253</td>\n",
       "      <td>2020-03-15 18:51:36</td>\n",
       "      <td>2020-03-15 18:55:50</td>\n",
       "      <td>473.0</td>\n",
       "      <td>Willow St at Blewett Ave</td>\n",
       "      <td>37.309014</td>\n",
       "      <td>-121.900011</td>\n",
       "      <td>415.0</td>\n",
       "      <td>Delmas Ave at Virginia St</td>\n",
       "      <td>37.319757</td>\n",
       "      <td>-121.892999</td>\n",
       "      <td>239732</td>\n",
       "      <td>Subscriber</td>\n",
       "      <td>app</td>\n",
       "    </tr>\n",
       "    <tr>\n",
       "      <th>63550</th>\n",
       "      <td>169</td>\n",
       "      <td>2020-03-31 15:20:10</td>\n",
       "      <td>2020-03-31 15:23:00</td>\n",
       "      <td>473.0</td>\n",
       "      <td>Willow St at Blewett Ave</td>\n",
       "      <td>37.309014</td>\n",
       "      <td>-121.900011</td>\n",
       "      <td>473.0</td>\n",
       "      <td>Willow St at Blewett Ave</td>\n",
       "      <td>37.309014</td>\n",
       "      <td>-121.900011</td>\n",
       "      <td>439978</td>\n",
       "      <td>Subscriber</td>\n",
       "      <td>app</td>\n",
       "    </tr>\n",
       "    <tr>\n",
       "      <th>63552</th>\n",
       "      <td>623</td>\n",
       "      <td>2020-03-07 18:31:26</td>\n",
       "      <td>2020-03-07 18:41:50</td>\n",
       "      <td>473.0</td>\n",
       "      <td>Willow St at Blewett Ave</td>\n",
       "      <td>37.309014</td>\n",
       "      <td>-121.900011</td>\n",
       "      <td>406.0</td>\n",
       "      <td>Parkmoor Ave at Race St</td>\n",
       "      <td>37.316736</td>\n",
       "      <td>-121.910005</td>\n",
       "      <td>168502</td>\n",
       "      <td>Subscriber</td>\n",
       "      <td>app</td>\n",
       "    </tr>\n",
       "    <tr>\n",
       "      <th>...</th>\n",
       "      <td>...</td>\n",
       "      <td>...</td>\n",
       "      <td>...</td>\n",
       "      <td>...</td>\n",
       "      <td>...</td>\n",
       "      <td>...</td>\n",
       "      <td>...</td>\n",
       "      <td>...</td>\n",
       "      <td>...</td>\n",
       "      <td>...</td>\n",
       "      <td>...</td>\n",
       "      <td>...</td>\n",
       "      <td>...</td>\n",
       "      <td>...</td>\n",
       "    </tr>\n",
       "    <tr>\n",
       "      <th>174725</th>\n",
       "      <td>406</td>\n",
       "      <td>2020-03-15 16:47:10</td>\n",
       "      <td>2020-03-15 16:53:57</td>\n",
       "      <td>6.0</td>\n",
       "      <td>The Embarcadero at Sansome St</td>\n",
       "      <td>37.804770</td>\n",
       "      <td>-122.403234</td>\n",
       "      <td>11.0</td>\n",
       "      <td>Davis St at Jackson St</td>\n",
       "      <td>37.797280</td>\n",
       "      <td>-122.398436</td>\n",
       "      <td>181768</td>\n",
       "      <td>Subscriber</td>\n",
       "      <td>clipper</td>\n",
       "    </tr>\n",
       "    <tr>\n",
       "      <th>174726</th>\n",
       "      <td>284</td>\n",
       "      <td>2020-03-11 16:49:16</td>\n",
       "      <td>2020-03-11 16:54:00</td>\n",
       "      <td>6.0</td>\n",
       "      <td>The Embarcadero at Sansome St</td>\n",
       "      <td>37.804770</td>\n",
       "      <td>-122.403234</td>\n",
       "      <td>487.0</td>\n",
       "      <td>Powell St at Columbus Ave</td>\n",
       "      <td>37.800496</td>\n",
       "      <td>-122.410887</td>\n",
       "      <td>456827</td>\n",
       "      <td>Subscriber</td>\n",
       "      <td>app</td>\n",
       "    </tr>\n",
       "    <tr>\n",
       "      <th>174727</th>\n",
       "      <td>389</td>\n",
       "      <td>2020-03-06 13:30:22</td>\n",
       "      <td>2020-03-06 13:36:51</td>\n",
       "      <td>6.0</td>\n",
       "      <td>The Embarcadero at Sansome St</td>\n",
       "      <td>37.804770</td>\n",
       "      <td>-122.403234</td>\n",
       "      <td>15.0</td>\n",
       "      <td>San Francisco Ferry Building (Harry Bridges Pl...</td>\n",
       "      <td>37.795392</td>\n",
       "      <td>-122.394203</td>\n",
       "      <td>921888</td>\n",
       "      <td>Subscriber</td>\n",
       "      <td>app</td>\n",
       "    </tr>\n",
       "    <tr>\n",
       "      <th>174728</th>\n",
       "      <td>248</td>\n",
       "      <td>2020-03-03 10:13:41</td>\n",
       "      <td>2020-03-03 10:17:49</td>\n",
       "      <td>6.0</td>\n",
       "      <td>The Embarcadero at Sansome St</td>\n",
       "      <td>37.804770</td>\n",
       "      <td>-122.403234</td>\n",
       "      <td>15.0</td>\n",
       "      <td>San Francisco Ferry Building (Harry Bridges Pl...</td>\n",
       "      <td>37.795392</td>\n",
       "      <td>-122.394203</td>\n",
       "      <td>924766</td>\n",
       "      <td>Subscriber</td>\n",
       "      <td>app</td>\n",
       "    </tr>\n",
       "    <tr>\n",
       "      <th>174729</th>\n",
       "      <td>236</td>\n",
       "      <td>2020-03-04 10:55:46</td>\n",
       "      <td>2020-03-04 10:59:43</td>\n",
       "      <td>6.0</td>\n",
       "      <td>The Embarcadero at Sansome St</td>\n",
       "      <td>37.804770</td>\n",
       "      <td>-122.403234</td>\n",
       "      <td>15.0</td>\n",
       "      <td>San Francisco Ferry Building (Harry Bridges Pl...</td>\n",
       "      <td>37.795392</td>\n",
       "      <td>-122.394203</td>\n",
       "      <td>523483</td>\n",
       "      <td>Subscriber</td>\n",
       "      <td>app</td>\n",
       "    </tr>\n",
       "  </tbody>\n",
       "</table>\n",
       "<p>30362 rows × 14 columns</p>\n",
       "</div>"
      ],
      "text/plain": [
       "        duration_sec           start_time             end_time  \\\n",
       "63542           1772  2020-03-31 15:23:58  2020-03-31 15:53:30   \n",
       "63543            737  2020-03-26 16:24:05  2020-03-26 16:36:23   \n",
       "63545            253  2020-03-15 18:51:36  2020-03-15 18:55:50   \n",
       "63550            169  2020-03-31 15:20:10  2020-03-31 15:23:00   \n",
       "63552            623  2020-03-07 18:31:26  2020-03-07 18:41:50   \n",
       "...              ...                  ...                  ...   \n",
       "174725           406  2020-03-15 16:47:10  2020-03-15 16:53:57   \n",
       "174726           284  2020-03-11 16:49:16  2020-03-11 16:54:00   \n",
       "174727           389  2020-03-06 13:30:22  2020-03-06 13:36:51   \n",
       "174728           248  2020-03-03 10:13:41  2020-03-03 10:17:49   \n",
       "174729           236  2020-03-04 10:55:46  2020-03-04 10:59:43   \n",
       "\n",
       "        start_station_id             start_station_name  \\\n",
       "63542              473.0       Willow St at Blewett Ave   \n",
       "63543              473.0       Willow St at Blewett Ave   \n",
       "63545              473.0       Willow St at Blewett Ave   \n",
       "63550              473.0       Willow St at Blewett Ave   \n",
       "63552              473.0       Willow St at Blewett Ave   \n",
       "...                  ...                            ...   \n",
       "174725               6.0  The Embarcadero at Sansome St   \n",
       "174726               6.0  The Embarcadero at Sansome St   \n",
       "174727               6.0  The Embarcadero at Sansome St   \n",
       "174728               6.0  The Embarcadero at Sansome St   \n",
       "174729               6.0  The Embarcadero at Sansome St   \n",
       "\n",
       "        start_station_latitude  start_station_longitude  end_station_id  \\\n",
       "63542                37.309014              -121.900011           473.0   \n",
       "63543                37.309014              -121.900011           309.0   \n",
       "63545                37.309014              -121.900011           415.0   \n",
       "63550                37.309014              -121.900011           473.0   \n",
       "63552                37.309014              -121.900011           406.0   \n",
       "...                        ...                      ...             ...   \n",
       "174725               37.804770              -122.403234            11.0   \n",
       "174726               37.804770              -122.403234           487.0   \n",
       "174727               37.804770              -122.403234            15.0   \n",
       "174728               37.804770              -122.403234            15.0   \n",
       "174729               37.804770              -122.403234            15.0   \n",
       "\n",
       "                                         end_station_name  \\\n",
       "63542                            Willow St at Blewett Ave   \n",
       "63543                                  San Jose City Hall   \n",
       "63545                           Delmas Ave at Virginia St   \n",
       "63550                            Willow St at Blewett Ave   \n",
       "63552                             Parkmoor Ave at Race St   \n",
       "...                                                   ...   \n",
       "174725                             Davis St at Jackson St   \n",
       "174726                          Powell St at Columbus Ave   \n",
       "174727  San Francisco Ferry Building (Harry Bridges Pl...   \n",
       "174728  San Francisco Ferry Building (Harry Bridges Pl...   \n",
       "174729  San Francisco Ferry Building (Harry Bridges Pl...   \n",
       "\n",
       "        end_station_latitude  end_station_longitude  bike_id   user_type  \\\n",
       "63542              37.309014            -121.900011   480691  Subscriber   \n",
       "63543              37.337391            -121.886995   237580  Subscriber   \n",
       "63545              37.319757            -121.892999   239732  Subscriber   \n",
       "63550              37.309014            -121.900011   439978  Subscriber   \n",
       "63552              37.316736            -121.910005   168502  Subscriber   \n",
       "...                      ...                    ...      ...         ...   \n",
       "174725             37.797280            -122.398436   181768  Subscriber   \n",
       "174726             37.800496            -122.410887   456827  Subscriber   \n",
       "174727             37.795392            -122.394203   921888  Subscriber   \n",
       "174728             37.795392            -122.394203   924766  Subscriber   \n",
       "174729             37.795392            -122.394203   523483  Subscriber   \n",
       "\n",
       "       rental_access_method  \n",
       "63542                   app  \n",
       "63543                   app  \n",
       "63545                   app  \n",
       "63550                   app  \n",
       "63552                   app  \n",
       "...                     ...  \n",
       "174725              clipper  \n",
       "174726                  app  \n",
       "174727                  app  \n",
       "174728                  app  \n",
       "174729                  app  \n",
       "\n",
       "[30362 rows x 14 columns]"
      ]
     },
     "execution_count": 6,
     "metadata": {},
     "output_type": "execute_result"
    }
   ],
   "source": [
    "bike_clean = bike_mar2020[(bike_mar2020['start_station_name'].notnull()) & \n",
    "                          (bike_mar2020['end_station_name'].notnull()) &\n",
    "                          (bike_mar2020['rental_access_method'].notnull())]\n",
    "bike_clean"
   ]
  },
  {
   "cell_type": "markdown",
   "metadata": {},
   "source": [
    "<b>2. Drop 'start_station_id' and 'end_station_id' columns from bike_clean</b>"
   ]
  },
  {
   "cell_type": "code",
   "execution_count": 7,
   "metadata": {},
   "outputs": [],
   "source": [
    "bike_clean.drop(columns = ['start_station_id', 'end_station_id'], axis = 1, inplace = True)"
   ]
  },
  {
   "cell_type": "markdown",
   "metadata": {},
   "source": [
    "<b>3. Edit data types in bike_clean</b>"
   ]
  },
  {
   "cell_type": "markdown",
   "metadata": {},
   "source": [
    "- Change start_time and end_time columns to datetime data type:"
   ]
  },
  {
   "cell_type": "code",
   "execution_count": 8,
   "metadata": {},
   "outputs": [],
   "source": [
    "bike_clean.start_time = pd.to_datetime(bike_clean['start_time'])\n",
    "bike_clean.end_time = pd.to_datetime(bike_clean['end_time'])"
   ]
  },
  {
   "cell_type": "markdown",
   "metadata": {},
   "source": [
    "- Change start_station_id, end_station_id and bike_id columns to object (str) data type:"
   ]
  },
  {
   "cell_type": "code",
   "execution_count": 9,
   "metadata": {},
   "outputs": [],
   "source": [
    "bike_clean.bike_id = bike_clean.bike_id.astype(str)"
   ]
  },
  {
   "cell_type": "markdown",
   "metadata": {},
   "source": [
    "<b>4. Convert 'user_type' and 'rental_access_method' into unordered categorical types:</b>"
   ]
  },
  {
   "cell_type": "code",
   "execution_count": 10,
   "metadata": {},
   "outputs": [],
   "source": [
    "# Change values in user_type into lower-case:\n",
    "bike_clean['user_type'] = bike_clean['user_type'].str.lower()\n",
    "\n",
    "# 4.1 Convert 'user_type' into unordered categorical type:\n",
    "u_type = ['subscriber', 'customer']\n",
    "u_cat = pd.api.types.CategoricalDtype(ordered = False, categories = u_type)\n",
    "bike_clean['user_type'] = bike_clean['user_type'].astype(u_cat)"
   ]
  },
  {
   "cell_type": "code",
   "execution_count": 11,
   "metadata": {},
   "outputs": [],
   "source": [
    "# 4.2 Convert 'rental_access_method' into unordered categorical type:\n",
    "r_type = ['app', 'clipper']\n",
    "r_cat = pd.api.types.CategoricalDtype(ordered = False, categories = r_type)\n",
    "bike_clean['rental_access_method'] = bike_clean['rental_access_method'].astype(r_cat)"
   ]
  },
  {
   "cell_type": "markdown",
   "metadata": {},
   "source": [
    "<b>5. Edit 16th Depot Bike Fleet Station's latitude and longitude to 37.523692 and -88.838091 respectively</b>"
   ]
  },
  {
   "cell_type": "code",
   "execution_count": 12,
   "metadata": {},
   "outputs": [],
   "source": [
    "# 5.1 Change 16th Depot Bike Fleet Station's latitude to 37.523692 \n",
    "bike_clean.end_station_latitude[bike_clean.end_station_name == '16th Depot Bike Fleet Station'] = 37.523692"
   ]
  },
  {
   "cell_type": "code",
   "execution_count": 13,
   "metadata": {},
   "outputs": [],
   "source": [
    "# 5.2 Change 16th Depot Bike Fleet Station's longitude to -88.838091\n",
    "bike_clean.end_station_longitude[bike_clean.end_station_name == '16th Depot Bike Fleet Station'] = -88.838091"
   ]
  },
  {
   "cell_type": "markdown",
   "metadata": {},
   "source": [
    "<b>6. Create 3 new column: 'duration_min', 'start_hour' and 'start_period'</b>"
   ]
  },
  {
   "cell_type": "code",
   "execution_count": 14,
   "metadata": {},
   "outputs": [],
   "source": [
    "# 6.1 Create 'duration_min': 'duration_sec' divided by 60 to get duration time in minutes:\n",
    "bike_clean['duration_min'] = round(bike_clean['duration_sec'] / 60, 2)\n",
    "\n",
    "# Drop 'duration_sec' from bike_clean df:\n",
    "bike_clean.drop(columns = ['duration_sec'], axis = 1, inplace = True)"
   ]
  },
  {
   "cell_type": "code",
   "execution_count": 15,
   "metadata": {},
   "outputs": [],
   "source": [
    "# 6.2 Create 'start_hour': hour part in 'start_time' variable:\n",
    "bike_clean['start_hour'] = bike_clean['start_time'].apply(lambda time: time.hour)"
   ]
  },
  {
   "cell_type": "code",
   "execution_count": 16,
   "metadata": {},
   "outputs": [],
   "source": [
    "# 6.3 Create 'start_period': period of the day in 'start_hour' variable:\n",
    "bike_clean['period_day'] = 'morning'\n",
    "bike_clean['period_day'][(bike_clean['start_hour'] >= 12) & (bike_clean['start_hour'] <= 17)] = 'afternoon'\n",
    "bike_clean['period_day'][(bike_clean['start_hour'] >= 18) & (bike_clean['start_hour'] <= 23)] = 'night'\n",
    "\n",
    "# Convert 'period_day' into ordered categorical type:\n",
    "period_type = ['morning', 'afternoon', 'night']\n",
    "period_cat = pd.api.types.CategoricalDtype(ordered = True, categories = period_type)\n",
    "bike_clean['period_day'] = bike_clean['period_day'].astype(period_cat)"
   ]
  },
  {
   "cell_type": "code",
   "execution_count": 52,
   "metadata": {},
   "outputs": [],
   "source": [
    "# Export bike_clean into 'bike_clean.csv' to use in part 2 (presentation):\n",
    "bike_clean.to_csv('bike_clean.csv', index = False)"
   ]
  },
  {
   "cell_type": "markdown",
   "metadata": {},
   "source": [
    "### Overview of cleaned data shape and composition:"
   ]
  },
  {
   "cell_type": "code",
   "execution_count": 17,
   "metadata": {},
   "outputs": [
    {
     "name": "stdout",
     "output_type": "stream",
     "text": [
      "(30362, 14)\n",
      "start_time                 datetime64[ns]\n",
      "end_time                   datetime64[ns]\n",
      "start_station_name                 object\n",
      "start_station_latitude            float64\n",
      "start_station_longitude           float64\n",
      "end_station_name                   object\n",
      "end_station_latitude              float64\n",
      "end_station_longitude             float64\n",
      "bike_id                            object\n",
      "user_type                        category\n",
      "rental_access_method             category\n",
      "duration_min                      float64\n",
      "start_hour                          int64\n",
      "period_day                       category\n",
      "dtype: object\n",
      "               start_time            end_time        start_station_name  \\\n",
      "63542 2020-03-31 15:23:58 2020-03-31 15:53:30  Willow St at Blewett Ave   \n",
      "63543 2020-03-26 16:24:05 2020-03-26 16:36:23  Willow St at Blewett Ave   \n",
      "63545 2020-03-15 18:51:36 2020-03-15 18:55:50  Willow St at Blewett Ave   \n",
      "63550 2020-03-31 15:20:10 2020-03-31 15:23:00  Willow St at Blewett Ave   \n",
      "63552 2020-03-07 18:31:26 2020-03-07 18:41:50  Willow St at Blewett Ave   \n",
      "\n",
      "       start_station_latitude  start_station_longitude  \\\n",
      "63542               37.309014              -121.900011   \n",
      "63543               37.309014              -121.900011   \n",
      "63545               37.309014              -121.900011   \n",
      "63550               37.309014              -121.900011   \n",
      "63552               37.309014              -121.900011   \n",
      "\n",
      "                end_station_name  end_station_latitude  end_station_longitude  \\\n",
      "63542   Willow St at Blewett Ave             37.309014            -121.900011   \n",
      "63543         San Jose City Hall             37.337391            -121.886995   \n",
      "63545  Delmas Ave at Virginia St             37.319757            -121.892999   \n",
      "63550   Willow St at Blewett Ave             37.309014            -121.900011   \n",
      "63552    Parkmoor Ave at Race St             37.316736            -121.910005   \n",
      "\n",
      "      bike_id   user_type rental_access_method  duration_min  start_hour  \\\n",
      "63542  480691  subscriber                  app         29.53          15   \n",
      "63543  237580  subscriber                  app         12.28          16   \n",
      "63545  239732  subscriber                  app          4.22          18   \n",
      "63550  439978  subscriber                  app          2.82          15   \n",
      "63552  168502  subscriber                  app         10.38          18   \n",
      "\n",
      "      period_day  \n",
      "63542  afternoon  \n",
      "63543  afternoon  \n",
      "63545      night  \n",
      "63550  afternoon  \n",
      "63552      night  \n"
     ]
    }
   ],
   "source": [
    "print(bike_clean.shape)\n",
    "print(bike_clean.dtypes)\n",
    "print(bike_clean.head())"
   ]
  },
  {
   "cell_type": "code",
   "execution_count": 18,
   "metadata": {
    "scrolled": true
   },
   "outputs": [
    {
     "name": "stdout",
     "output_type": "stream",
     "text": [
      "       start_station_latitude  start_station_longitude  end_station_latitude  \\\n",
      "count            30362.000000             30362.000000          30362.000000   \n",
      "mean                37.766510              -122.401440             37.766646   \n",
      "std                  0.065456                 0.078147              0.065592   \n",
      "min                 37.309014              -122.509071             37.309014   \n",
      "25%                 37.765910              -122.422285             37.766210   \n",
      "50%                 37.776329              -122.408915             37.776435   \n",
      "75%                 37.786375              -122.396973             37.786375   \n",
      "max                 37.804770              -121.864021             37.804770   \n",
      "\n",
      "       end_station_longitude  duration_min    start_hour  \n",
      "count           30362.000000  30362.000000  30362.000000  \n",
      "mean             -122.398090     13.763277     13.722449  \n",
      "std                 0.342665     14.722296      4.633784  \n",
      "min              -122.509071      1.000000      0.000000  \n",
      "25%              -122.422140      6.530000      9.000000  \n",
      "50%              -122.408915     10.070000     15.000000  \n",
      "75%              -122.396973     15.450000     17.000000  \n",
      "max               -88.838091    470.830000     23.000000  \n"
     ]
    }
   ],
   "source": [
    "print(bike_clean.describe())"
   ]
  },
  {
   "cell_type": "markdown",
   "metadata": {},
   "source": [
    "### What is the structure of your dataset?\n",
    "\n",
    "> After cleaning, there are 30,362 individual rides information and 14 features. A variety of data types exist in cleaned dataset: datetime, string (object), float and category.\n",
    "\n",
    "> There are:\n",
    "- 2 types of users: subscriber and customer\n",
    "- 2 types of rental access methods: Lyft application and clipper (all-in-one transit card for the San Francisco Bay Area use to unlock Bay Wheels)\n",
    "- 3 ordered time period of the day for start_time variable: morning, afternoon and night\n",
    "\n",
    "### What is/are the main feature(s) of interest in your dataset?\n",
    "\n",
    "> I am interested in:\n",
    "- Whether Lyft subscriber or normal customer make longer ride duration in minutes ('user_type', 'duration_min')\n",
    "- Which rental access methods are used the most ('rental_access_method')\n",
    "- Which time period of the day that bikes are rented the most ('period_day' or 'start_hour')\n",
    "\n",
    "> Note that additional questions along the analysis is expected in each exploration stage as well.\n",
    "\n",
    "### What features in the dataset do you think will help support your investigation into your feature(s) of interest?\n",
    "\n",
    "> I don't think other features will not help support much more as the variables of interest already contain the answer for itself. I expect that Lyft subscriber will make longer ride duration and more frequent rides compared to normal customer. Stations near San Francisco's landmark: Golden Gate Bridge might be visited the most and bike's most used time period is in the morning and population on the sample access the service via app more."
   ]
  },
  {
   "cell_type": "markdown",
   "metadata": {},
   "source": [
    "## Univariate Exploration"
   ]
  },
  {
   "cell_type": "markdown",
   "metadata": {},
   "source": [
    "##### Construct histogram and bar chart functions to reduce code repetition:"
   ]
  },
  {
   "cell_type": "code",
   "execution_count": 19,
   "metadata": {},
   "outputs": [],
   "source": [
    "def histogram(x, n, xlab, ylab):\n",
    "    plt.figure(figsize = (8,5))\n",
    "    plt.hist(x, bins = n)\n",
    "    plt.xlabel(xlab)\n",
    "    plt.ylabel(ylab)\n",
    "    plt.show();"
   ]
  },
  {
   "cell_type": "code",
   "execution_count": 20,
   "metadata": {},
   "outputs": [],
   "source": [
    "def barchart(x, xlab, ylab):\n",
    "    sns.countplot(x)\n",
    "    plt.xlabel(xlab)\n",
    "    plt.ylabel(ylab)\n",
    "    plt.show();"
   ]
  },
  {
   "cell_type": "markdown",
   "metadata": {},
   "source": [
    "<b>1. Let's look at distribution of 'duration_min':</b>"
   ]
  },
  {
   "cell_type": "code",
   "execution_count": 21,
   "metadata": {},
   "outputs": [
    {
     "data": {
      "image/png": "[encoded data removed]",
      "text/plain": [
       "<Figure size 576x360 with 1 Axes>"
      ]
     },
     "metadata": {
      "needs_background": "light"
     },
     "output_type": "display_data"
    }
   ],
   "source": [
    "binsize = 20\n",
    "bins = np.arange(30, bike_clean.duration_min.max() + binsize, binsize)\n",
    "\n",
    "histogram(bike_clean.duration_min, bins, 'Bike trip duration (minutes)', 'Count')"
   ]
  },
  {
   "cell_type": "markdown",
   "metadata": {},
   "source": [
    "From the histogram we can see that the graph is highly right skewed, so let's look at outliers and assess whether it should be removed from the cleaned dataset."
   ]
  },
  {
   "cell_type": "code",
   "execution_count": 22,
   "metadata": {},
   "outputs": [
    {
     "data": {
      "text/html": [
       "<div>\n",
       "<style scoped>\n",
       "    .dataframe tbody tr th:only-of-type {\n",
       "        vertical-align: middle;\n",
       "    }\n",
       "\n",
       "    .dataframe tbody tr th {\n",
       "        vertical-align: top;\n",
       "    }\n",
       "\n",
       "    .dataframe thead th {\n",
       "        text-align: right;\n",
       "    }\n",
       "</style>\n",
       "<table border=\"1\" class=\"dataframe\">\n",
       "  <thead>\n",
       "    <tr style=\"text-align: right;\">\n",
       "      <th></th>\n",
       "      <th>start_time</th>\n",
       "      <th>end_time</th>\n",
       "      <th>start_station_name</th>\n",
       "      <th>start_station_latitude</th>\n",
       "      <th>start_station_longitude</th>\n",
       "      <th>end_station_name</th>\n",
       "      <th>end_station_latitude</th>\n",
       "      <th>end_station_longitude</th>\n",
       "      <th>bike_id</th>\n",
       "      <th>user_type</th>\n",
       "      <th>rental_access_method</th>\n",
       "      <th>duration_min</th>\n",
       "      <th>start_hour</th>\n",
       "      <th>period_day</th>\n",
       "    </tr>\n",
       "  </thead>\n",
       "  <tbody>\n",
       "    <tr>\n",
       "      <th>63542</th>\n",
       "      <td>2020-03-31 15:23:58</td>\n",
       "      <td>2020-03-31 15:53:30</td>\n",
       "      <td>Willow St at Blewett Ave</td>\n",
       "      <td>37.309014</td>\n",
       "      <td>-121.900011</td>\n",
       "      <td>Willow St at Blewett Ave</td>\n",
       "      <td>37.309014</td>\n",
       "      <td>-121.900011</td>\n",
       "      <td>480691</td>\n",
       "      <td>subscriber</td>\n",
       "      <td>app</td>\n",
       "      <td>29.53</td>\n",
       "      <td>15</td>\n",
       "      <td>afternoon</td>\n",
       "    </tr>\n",
       "    <tr>\n",
       "      <th>64695</th>\n",
       "      <td>2020-03-27 23:11:02</td>\n",
       "      <td>2020-03-27 23:52:22</td>\n",
       "      <td>3rd St at Keyes St</td>\n",
       "      <td>37.320866</td>\n",
       "      <td>-121.876279</td>\n",
       "      <td>Santa Clara St at Almaden Blvd</td>\n",
       "      <td>37.333988</td>\n",
       "      <td>-121.894902</td>\n",
       "      <td>657484</td>\n",
       "      <td>subscriber</td>\n",
       "      <td>app</td>\n",
       "      <td>41.32</td>\n",
       "      <td>23</td>\n",
       "      <td>night</td>\n",
       "    </tr>\n",
       "    <tr>\n",
       "      <th>64740</th>\n",
       "      <td>2020-03-01 09:55:57</td>\n",
       "      <td>2020-03-01 10:41:36</td>\n",
       "      <td>Auzerais Ave at Lincoln Ave</td>\n",
       "      <td>37.320969</td>\n",
       "      <td>-121.908296</td>\n",
       "      <td>San Carlos St at Meridian Ave</td>\n",
       "      <td>37.323345</td>\n",
       "      <td>-121.913497</td>\n",
       "      <td>693037</td>\n",
       "      <td>customer</td>\n",
       "      <td>app</td>\n",
       "      <td>45.65</td>\n",
       "      <td>9</td>\n",
       "      <td>morning</td>\n",
       "    </tr>\n",
       "    <tr>\n",
       "      <th>66754</th>\n",
       "      <td>2020-03-26 18:34:35</td>\n",
       "      <td>2020-03-26 19:23:54</td>\n",
       "      <td>Almaden Blvd at Balbach St</td>\n",
       "      <td>37.326730</td>\n",
       "      <td>-121.889273</td>\n",
       "      <td>Almaden Blvd at Balbach St</td>\n",
       "      <td>37.326730</td>\n",
       "      <td>-121.889273</td>\n",
       "      <td>258868</td>\n",
       "      <td>subscriber</td>\n",
       "      <td>app</td>\n",
       "      <td>49.32</td>\n",
       "      <td>18</td>\n",
       "      <td>night</td>\n",
       "    </tr>\n",
       "    <tr>\n",
       "      <th>66755</th>\n",
       "      <td>2020-03-26 18:41:01</td>\n",
       "      <td>2020-03-26 19:24:01</td>\n",
       "      <td>Almaden Blvd at Balbach St</td>\n",
       "      <td>37.326730</td>\n",
       "      <td>-121.889273</td>\n",
       "      <td>Almaden Blvd at Balbach St</td>\n",
       "      <td>37.326730</td>\n",
       "      <td>-121.889273</td>\n",
       "      <td>556134</td>\n",
       "      <td>subscriber</td>\n",
       "      <td>app</td>\n",
       "      <td>42.98</td>\n",
       "      <td>18</td>\n",
       "      <td>night</td>\n",
       "    </tr>\n",
       "    <tr>\n",
       "      <th>...</th>\n",
       "      <td>...</td>\n",
       "      <td>...</td>\n",
       "      <td>...</td>\n",
       "      <td>...</td>\n",
       "      <td>...</td>\n",
       "      <td>...</td>\n",
       "      <td>...</td>\n",
       "      <td>...</td>\n",
       "      <td>...</td>\n",
       "      <td>...</td>\n",
       "      <td>...</td>\n",
       "      <td>...</td>\n",
       "      <td>...</td>\n",
       "      <td>...</td>\n",
       "    </tr>\n",
       "    <tr>\n",
       "      <th>174640</th>\n",
       "      <td>2020-03-28 15:49:53</td>\n",
       "      <td>2020-03-28 16:35:22</td>\n",
       "      <td>The Embarcadero at Sansome St</td>\n",
       "      <td>37.804770</td>\n",
       "      <td>-122.403234</td>\n",
       "      <td>The Embarcadero at Sansome St</td>\n",
       "      <td>37.804770</td>\n",
       "      <td>-122.403234</td>\n",
       "      <td>278419</td>\n",
       "      <td>subscriber</td>\n",
       "      <td>app</td>\n",
       "      <td>45.47</td>\n",
       "      <td>15</td>\n",
       "      <td>afternoon</td>\n",
       "    </tr>\n",
       "    <tr>\n",
       "      <th>174670</th>\n",
       "      <td>2020-03-28 15:56:20</td>\n",
       "      <td>2020-03-28 16:37:55</td>\n",
       "      <td>The Embarcadero at Sansome St</td>\n",
       "      <td>37.804770</td>\n",
       "      <td>-122.403234</td>\n",
       "      <td>The Embarcadero at Sansome St</td>\n",
       "      <td>37.804770</td>\n",
       "      <td>-122.403234</td>\n",
       "      <td>387310</td>\n",
       "      <td>customer</td>\n",
       "      <td>app</td>\n",
       "      <td>41.58</td>\n",
       "      <td>15</td>\n",
       "      <td>afternoon</td>\n",
       "    </tr>\n",
       "    <tr>\n",
       "      <th>174689</th>\n",
       "      <td>2020-03-20 09:45:14</td>\n",
       "      <td>2020-03-20 10:34:17</td>\n",
       "      <td>The Embarcadero at Sansome St</td>\n",
       "      <td>37.804770</td>\n",
       "      <td>-122.403234</td>\n",
       "      <td>The Embarcadero at Sansome St</td>\n",
       "      <td>37.804770</td>\n",
       "      <td>-122.403234</td>\n",
       "      <td>758208</td>\n",
       "      <td>subscriber</td>\n",
       "      <td>app</td>\n",
       "      <td>49.03</td>\n",
       "      <td>9</td>\n",
       "      <td>morning</td>\n",
       "    </tr>\n",
       "    <tr>\n",
       "      <th>174695</th>\n",
       "      <td>2020-03-21 18:54:19</td>\n",
       "      <td>2020-03-21 19:42:26</td>\n",
       "      <td>The Embarcadero at Sansome St</td>\n",
       "      <td>37.804770</td>\n",
       "      <td>-122.403234</td>\n",
       "      <td>The Embarcadero at Sansome St</td>\n",
       "      <td>37.804770</td>\n",
       "      <td>-122.403234</td>\n",
       "      <td>349088</td>\n",
       "      <td>customer</td>\n",
       "      <td>app</td>\n",
       "      <td>48.10</td>\n",
       "      <td>18</td>\n",
       "      <td>night</td>\n",
       "    </tr>\n",
       "    <tr>\n",
       "      <th>174716</th>\n",
       "      <td>2020-03-08 12:20:57</td>\n",
       "      <td>2020-03-08 13:53:38</td>\n",
       "      <td>The Embarcadero at Sansome St</td>\n",
       "      <td>37.804770</td>\n",
       "      <td>-122.403234</td>\n",
       "      <td>Frederick St at Arguello Blvd</td>\n",
       "      <td>37.765783</td>\n",
       "      <td>-122.457637</td>\n",
       "      <td>530268</td>\n",
       "      <td>customer</td>\n",
       "      <td>app</td>\n",
       "      <td>92.68</td>\n",
       "      <td>12</td>\n",
       "      <td>afternoon</td>\n",
       "    </tr>\n",
       "  </tbody>\n",
       "</table>\n",
       "<p>2224 rows × 14 columns</p>\n",
       "</div>"
      ],
      "text/plain": [
       "                start_time            end_time             start_station_name  \\\n",
       "63542  2020-03-31 15:23:58 2020-03-31 15:53:30       Willow St at Blewett Ave   \n",
       "64695  2020-03-27 23:11:02 2020-03-27 23:52:22             3rd St at Keyes St   \n",
       "64740  2020-03-01 09:55:57 2020-03-01 10:41:36    Auzerais Ave at Lincoln Ave   \n",
       "66754  2020-03-26 18:34:35 2020-03-26 19:23:54     Almaden Blvd at Balbach St   \n",
       "66755  2020-03-26 18:41:01 2020-03-26 19:24:01     Almaden Blvd at Balbach St   \n",
       "...                    ...                 ...                            ...   \n",
       "174640 2020-03-28 15:49:53 2020-03-28 16:35:22  The Embarcadero at Sansome St   \n",
       "174670 2020-03-28 15:56:20 2020-03-28 16:37:55  The Embarcadero at Sansome St   \n",
       "174689 2020-03-20 09:45:14 2020-03-20 10:34:17  The Embarcadero at Sansome St   \n",
       "174695 2020-03-21 18:54:19 2020-03-21 19:42:26  The Embarcadero at Sansome St   \n",
       "174716 2020-03-08 12:20:57 2020-03-08 13:53:38  The Embarcadero at Sansome St   \n",
       "\n",
       "        start_station_latitude  start_station_longitude  \\\n",
       "63542                37.309014              -121.900011   \n",
       "64695                37.320866              -121.876279   \n",
       "64740                37.320969              -121.908296   \n",
       "66754                37.326730              -121.889273   \n",
       "66755                37.326730              -121.889273   \n",
       "...                        ...                      ...   \n",
       "174640               37.804770              -122.403234   \n",
       "174670               37.804770              -122.403234   \n",
       "174689               37.804770              -122.403234   \n",
       "174695               37.804770              -122.403234   \n",
       "174716               37.804770              -122.403234   \n",
       "\n",
       "                      end_station_name  end_station_latitude  \\\n",
       "63542         Willow St at Blewett Ave             37.309014   \n",
       "64695   Santa Clara St at Almaden Blvd             37.333988   \n",
       "64740    San Carlos St at Meridian Ave             37.323345   \n",
       "66754       Almaden Blvd at Balbach St             37.326730   \n",
       "66755       Almaden Blvd at Balbach St             37.326730   \n",
       "...                                ...                   ...   \n",
       "174640   The Embarcadero at Sansome St             37.804770   \n",
       "174670   The Embarcadero at Sansome St             37.804770   \n",
       "174689   The Embarcadero at Sansome St             37.804770   \n",
       "174695   The Embarcadero at Sansome St             37.804770   \n",
       "174716   Frederick St at Arguello Blvd             37.765783   \n",
       "\n",
       "        end_station_longitude bike_id   user_type rental_access_method  \\\n",
       "63542             -121.900011  480691  subscriber                  app   \n",
       "64695             -121.894902  657484  subscriber                  app   \n",
       "64740             -121.913497  693037    customer                  app   \n",
       "66754             -121.889273  258868  subscriber                  app   \n",
       "66755             -121.889273  556134  subscriber                  app   \n",
       "...                       ...     ...         ...                  ...   \n",
       "174640            -122.403234  278419  subscriber                  app   \n",
       "174670            -122.403234  387310    customer                  app   \n",
       "174689            -122.403234  758208  subscriber                  app   \n",
       "174695            -122.403234  349088    customer                  app   \n",
       "174716            -122.457637  530268    customer                  app   \n",
       "\n",
       "        duration_min  start_hour period_day  \n",
       "63542          29.53          15  afternoon  \n",
       "64695          41.32          23      night  \n",
       "64740          45.65           9    morning  \n",
       "66754          49.32          18      night  \n",
       "66755          42.98          18      night  \n",
       "...              ...         ...        ...  \n",
       "174640         45.47          15  afternoon  \n",
       "174670         41.58          15  afternoon  \n",
       "174689         49.03           9    morning  \n",
       "174695         48.10          18      night  \n",
       "174716         92.68          12  afternoon  \n",
       "\n",
       "[2224 rows x 14 columns]"
      ]
     },
     "execution_count": 22,
     "metadata": {},
     "output_type": "execute_result"
    }
   ],
   "source": [
    "# Select 'duration_min' outliers:\n",
    "Q1 = bike_clean.duration_min.quantile(0.25)\n",
    "Q3 = bike_clean.duration_min.quantile(0.75)\n",
    "IQR = Q3 - Q1\n",
    "duration_min_outliers = bike_clean[(bike_clean.duration_min < (Q1 - (1.5 * IQR))) | (bike_clean.duration_min > (Q3 + (1.5 * IQR)))]\n",
    "duration_min_outliers"
   ]
  },
  {
   "cell_type": "code",
   "execution_count": 23,
   "metadata": {},
   "outputs": [
    {
     "data": {
      "text/plain": [
       "count    2224.000000\n",
       "mean       53.485018\n",
       "std        29.021696\n",
       "min        28.850000\n",
       "25%        34.230000\n",
       "50%        44.800000\n",
       "75%        61.235000\n",
       "max       470.830000\n",
       "Name: duration_min, dtype: float64"
      ]
     },
     "execution_count": 23,
     "metadata": {},
     "output_type": "execute_result"
    }
   ],
   "source": [
    "duration_min_outliers.duration_min.describe()"
   ]
  },
  {
   "cell_type": "markdown",
   "metadata": {},
   "source": [
    "There are 2,224 rows that are outliers in duration_min variable. Typical duration among outliers are 53.48 minutes per ride. I think that in this case outliers should still be kept as some bike users may ride and park the bike somewhere other than bike's end station to run some errands before returning the bike to the nearest bike station."
   ]
  },
  {
   "cell_type": "markdown",
   "metadata": {},
   "source": [
    "#### Let's plot bike trip's duration minutes without its outliers to see its distribution:"
   ]
  },
  {
   "cell_type": "code",
   "execution_count": 24,
   "metadata": {},
   "outputs": [
    {
     "data": {
      "text/html": [
       "<div>\n",
       "<style scoped>\n",
       "    .dataframe tbody tr th:only-of-type {\n",
       "        vertical-align: middle;\n",
       "    }\n",
       "\n",
       "    .dataframe tbody tr th {\n",
       "        vertical-align: top;\n",
       "    }\n",
       "\n",
       "    .dataframe thead th {\n",
       "        text-align: right;\n",
       "    }\n",
       "</style>\n",
       "<table border=\"1\" class=\"dataframe\">\n",
       "  <thead>\n",
       "    <tr style=\"text-align: right;\">\n",
       "      <th></th>\n",
       "      <th>start_time</th>\n",
       "      <th>end_time</th>\n",
       "      <th>start_station_name</th>\n",
       "      <th>start_station_latitude</th>\n",
       "      <th>start_station_longitude</th>\n",
       "      <th>end_station_name</th>\n",
       "      <th>end_station_latitude</th>\n",
       "      <th>end_station_longitude</th>\n",
       "      <th>bike_id</th>\n",
       "      <th>user_type</th>\n",
       "      <th>rental_access_method</th>\n",
       "      <th>duration_min</th>\n",
       "      <th>start_hour</th>\n",
       "      <th>period_day</th>\n",
       "    </tr>\n",
       "  </thead>\n",
       "  <tbody>\n",
       "    <tr>\n",
       "      <th>63543</th>\n",
       "      <td>2020-03-26 16:24:05</td>\n",
       "      <td>2020-03-26 16:36:23</td>\n",
       "      <td>Willow St at Blewett Ave</td>\n",
       "      <td>37.309014</td>\n",
       "      <td>-121.900011</td>\n",
       "      <td>San Jose City Hall</td>\n",
       "      <td>37.337391</td>\n",
       "      <td>-121.886995</td>\n",
       "      <td>237580</td>\n",
       "      <td>subscriber</td>\n",
       "      <td>app</td>\n",
       "      <td>12.28</td>\n",
       "      <td>16</td>\n",
       "      <td>afternoon</td>\n",
       "    </tr>\n",
       "    <tr>\n",
       "      <th>63545</th>\n",
       "      <td>2020-03-15 18:51:36</td>\n",
       "      <td>2020-03-15 18:55:50</td>\n",
       "      <td>Willow St at Blewett Ave</td>\n",
       "      <td>37.309014</td>\n",
       "      <td>-121.900011</td>\n",
       "      <td>Delmas Ave at Virginia St</td>\n",
       "      <td>37.319757</td>\n",
       "      <td>-121.892999</td>\n",
       "      <td>239732</td>\n",
       "      <td>subscriber</td>\n",
       "      <td>app</td>\n",
       "      <td>4.22</td>\n",
       "      <td>18</td>\n",
       "      <td>night</td>\n",
       "    </tr>\n",
       "    <tr>\n",
       "      <th>63550</th>\n",
       "      <td>2020-03-31 15:20:10</td>\n",
       "      <td>2020-03-31 15:23:00</td>\n",
       "      <td>Willow St at Blewett Ave</td>\n",
       "      <td>37.309014</td>\n",
       "      <td>-121.900011</td>\n",
       "      <td>Willow St at Blewett Ave</td>\n",
       "      <td>37.309014</td>\n",
       "      <td>-121.900011</td>\n",
       "      <td>439978</td>\n",
       "      <td>subscriber</td>\n",
       "      <td>app</td>\n",
       "      <td>2.82</td>\n",
       "      <td>15</td>\n",
       "      <td>afternoon</td>\n",
       "    </tr>\n",
       "    <tr>\n",
       "      <th>63552</th>\n",
       "      <td>2020-03-07 18:31:26</td>\n",
       "      <td>2020-03-07 18:41:50</td>\n",
       "      <td>Willow St at Blewett Ave</td>\n",
       "      <td>37.309014</td>\n",
       "      <td>-121.900011</td>\n",
       "      <td>Parkmoor Ave at Race St</td>\n",
       "      <td>37.316736</td>\n",
       "      <td>-121.910005</td>\n",
       "      <td>168502</td>\n",
       "      <td>subscriber</td>\n",
       "      <td>app</td>\n",
       "      <td>10.38</td>\n",
       "      <td>18</td>\n",
       "      <td>night</td>\n",
       "    </tr>\n",
       "    <tr>\n",
       "      <th>63713</th>\n",
       "      <td>2020-03-02 20:51:31</td>\n",
       "      <td>2020-03-02 20:56:44</td>\n",
       "      <td>Bird Ave at Willow St</td>\n",
       "      <td>37.311284</td>\n",
       "      <td>-121.896325</td>\n",
       "      <td>Willow St at Vine St</td>\n",
       "      <td>37.318450</td>\n",
       "      <td>-121.883172</td>\n",
       "      <td>906196</td>\n",
       "      <td>subscriber</td>\n",
       "      <td>app</td>\n",
       "      <td>5.22</td>\n",
       "      <td>20</td>\n",
       "      <td>night</td>\n",
       "    </tr>\n",
       "    <tr>\n",
       "      <th>...</th>\n",
       "      <td>...</td>\n",
       "      <td>...</td>\n",
       "      <td>...</td>\n",
       "      <td>...</td>\n",
       "      <td>...</td>\n",
       "      <td>...</td>\n",
       "      <td>...</td>\n",
       "      <td>...</td>\n",
       "      <td>...</td>\n",
       "      <td>...</td>\n",
       "      <td>...</td>\n",
       "      <td>...</td>\n",
       "      <td>...</td>\n",
       "      <td>...</td>\n",
       "    </tr>\n",
       "    <tr>\n",
       "      <th>174725</th>\n",
       "      <td>2020-03-15 16:47:10</td>\n",
       "      <td>2020-03-15 16:53:57</td>\n",
       "      <td>The Embarcadero at Sansome St</td>\n",
       "      <td>37.804770</td>\n",
       "      <td>-122.403234</td>\n",
       "      <td>Davis St at Jackson St</td>\n",
       "      <td>37.797280</td>\n",
       "      <td>-122.398436</td>\n",
       "      <td>181768</td>\n",
       "      <td>subscriber</td>\n",
       "      <td>clipper</td>\n",
       "      <td>6.77</td>\n",
       "      <td>16</td>\n",
       "      <td>afternoon</td>\n",
       "    </tr>\n",
       "    <tr>\n",
       "      <th>174726</th>\n",
       "      <td>2020-03-11 16:49:16</td>\n",
       "      <td>2020-03-11 16:54:00</td>\n",
       "      <td>The Embarcadero at Sansome St</td>\n",
       "      <td>37.804770</td>\n",
       "      <td>-122.403234</td>\n",
       "      <td>Powell St at Columbus Ave</td>\n",
       "      <td>37.800496</td>\n",
       "      <td>-122.410887</td>\n",
       "      <td>456827</td>\n",
       "      <td>subscriber</td>\n",
       "      <td>app</td>\n",
       "      <td>4.73</td>\n",
       "      <td>16</td>\n",
       "      <td>afternoon</td>\n",
       "    </tr>\n",
       "    <tr>\n",
       "      <th>174727</th>\n",
       "      <td>2020-03-06 13:30:22</td>\n",
       "      <td>2020-03-06 13:36:51</td>\n",
       "      <td>The Embarcadero at Sansome St</td>\n",
       "      <td>37.804770</td>\n",
       "      <td>-122.403234</td>\n",
       "      <td>San Francisco Ferry Building (Harry Bridges Pl...</td>\n",
       "      <td>37.795392</td>\n",
       "      <td>-122.394203</td>\n",
       "      <td>921888</td>\n",
       "      <td>subscriber</td>\n",
       "      <td>app</td>\n",
       "      <td>6.48</td>\n",
       "      <td>13</td>\n",
       "      <td>afternoon</td>\n",
       "    </tr>\n",
       "    <tr>\n",
       "      <th>174728</th>\n",
       "      <td>2020-03-03 10:13:41</td>\n",
       "      <td>2020-03-03 10:17:49</td>\n",
       "      <td>The Embarcadero at Sansome St</td>\n",
       "      <td>37.804770</td>\n",
       "      <td>-122.403234</td>\n",
       "      <td>San Francisco Ferry Building (Harry Bridges Pl...</td>\n",
       "      <td>37.795392</td>\n",
       "      <td>-122.394203</td>\n",
       "      <td>924766</td>\n",
       "      <td>subscriber</td>\n",
       "      <td>app</td>\n",
       "      <td>4.13</td>\n",
       "      <td>10</td>\n",
       "      <td>morning</td>\n",
       "    </tr>\n",
       "    <tr>\n",
       "      <th>174729</th>\n",
       "      <td>2020-03-04 10:55:46</td>\n",
       "      <td>2020-03-04 10:59:43</td>\n",
       "      <td>The Embarcadero at Sansome St</td>\n",
       "      <td>37.804770</td>\n",
       "      <td>-122.403234</td>\n",
       "      <td>San Francisco Ferry Building (Harry Bridges Pl...</td>\n",
       "      <td>37.795392</td>\n",
       "      <td>-122.394203</td>\n",
       "      <td>523483</td>\n",
       "      <td>subscriber</td>\n",
       "      <td>app</td>\n",
       "      <td>3.93</td>\n",
       "      <td>10</td>\n",
       "      <td>morning</td>\n",
       "    </tr>\n",
       "  </tbody>\n",
       "</table>\n",
       "<p>28138 rows × 14 columns</p>\n",
       "</div>"
      ],
      "text/plain": [
       "                start_time            end_time             start_station_name  \\\n",
       "63543  2020-03-26 16:24:05 2020-03-26 16:36:23       Willow St at Blewett Ave   \n",
       "63545  2020-03-15 18:51:36 2020-03-15 18:55:50       Willow St at Blewett Ave   \n",
       "63550  2020-03-31 15:20:10 2020-03-31 15:23:00       Willow St at Blewett Ave   \n",
       "63552  2020-03-07 18:31:26 2020-03-07 18:41:50       Willow St at Blewett Ave   \n",
       "63713  2020-03-02 20:51:31 2020-03-02 20:56:44          Bird Ave at Willow St   \n",
       "...                    ...                 ...                            ...   \n",
       "174725 2020-03-15 16:47:10 2020-03-15 16:53:57  The Embarcadero at Sansome St   \n",
       "174726 2020-03-11 16:49:16 2020-03-11 16:54:00  The Embarcadero at Sansome St   \n",
       "174727 2020-03-06 13:30:22 2020-03-06 13:36:51  The Embarcadero at Sansome St   \n",
       "174728 2020-03-03 10:13:41 2020-03-03 10:17:49  The Embarcadero at Sansome St   \n",
       "174729 2020-03-04 10:55:46 2020-03-04 10:59:43  The Embarcadero at Sansome St   \n",
       "\n",
       "        start_station_latitude  start_station_longitude  \\\n",
       "63543                37.309014              -121.900011   \n",
       "63545                37.309014              -121.900011   \n",
       "63550                37.309014              -121.900011   \n",
       "63552                37.309014              -121.900011   \n",
       "63713                37.311284              -121.896325   \n",
       "...                        ...                      ...   \n",
       "174725               37.804770              -122.403234   \n",
       "174726               37.804770              -122.403234   \n",
       "174727               37.804770              -122.403234   \n",
       "174728               37.804770              -122.403234   \n",
       "174729               37.804770              -122.403234   \n",
       "\n",
       "                                         end_station_name  \\\n",
       "63543                                  San Jose City Hall   \n",
       "63545                           Delmas Ave at Virginia St   \n",
       "63550                            Willow St at Blewett Ave   \n",
       "63552                             Parkmoor Ave at Race St   \n",
       "63713                                Willow St at Vine St   \n",
       "...                                                   ...   \n",
       "174725                             Davis St at Jackson St   \n",
       "174726                          Powell St at Columbus Ave   \n",
       "174727  San Francisco Ferry Building (Harry Bridges Pl...   \n",
       "174728  San Francisco Ferry Building (Harry Bridges Pl...   \n",
       "174729  San Francisco Ferry Building (Harry Bridges Pl...   \n",
       "\n",
       "        end_station_latitude  end_station_longitude bike_id   user_type  \\\n",
       "63543              37.337391            -121.886995  237580  subscriber   \n",
       "63545              37.319757            -121.892999  239732  subscriber   \n",
       "63550              37.309014            -121.900011  439978  subscriber   \n",
       "63552              37.316736            -121.910005  168502  subscriber   \n",
       "63713              37.318450            -121.883172  906196  subscriber   \n",
       "...                      ...                    ...     ...         ...   \n",
       "174725             37.797280            -122.398436  181768  subscriber   \n",
       "174726             37.800496            -122.410887  456827  subscriber   \n",
       "174727             37.795392            -122.394203  921888  subscriber   \n",
       "174728             37.795392            -122.394203  924766  subscriber   \n",
       "174729             37.795392            -122.394203  523483  subscriber   \n",
       "\n",
       "       rental_access_method  duration_min  start_hour period_day  \n",
       "63543                   app         12.28          16  afternoon  \n",
       "63545                   app          4.22          18      night  \n",
       "63550                   app          2.82          15  afternoon  \n",
       "63552                   app         10.38          18      night  \n",
       "63713                   app          5.22          20      night  \n",
       "...                     ...           ...         ...        ...  \n",
       "174725              clipper          6.77          16  afternoon  \n",
       "174726                  app          4.73          16  afternoon  \n",
       "174727                  app          6.48          13  afternoon  \n",
       "174728                  app          4.13          10    morning  \n",
       "174729                  app          3.93          10    morning  \n",
       "\n",
       "[28138 rows x 14 columns]"
      ]
     },
     "execution_count": 24,
     "metadata": {},
     "output_type": "execute_result"
    }
   ],
   "source": [
    "dur_min_noout = bike_clean[~bike_clean.duration_min.isin(duration_min_outliers.duration_min)]\n",
    "dur_min_noout"
   ]
  },
  {
   "cell_type": "code",
   "execution_count": 25,
   "metadata": {},
   "outputs": [
    {
     "data": {
      "text/plain": [
       "count    28138.000000\n",
       "mean        10.623710\n",
       "std          5.723941\n",
       "min          1.000000\n",
       "25%          6.280000\n",
       "50%          9.520000\n",
       "75%         13.927500\n",
       "max         28.830000\n",
       "Name: duration_min, dtype: float64"
      ]
     },
     "execution_count": 25,
     "metadata": {},
     "output_type": "execute_result"
    }
   ],
   "source": [
    "dur_min_noout.duration_min.describe()"
   ]
  },
  {
   "cell_type": "code",
   "execution_count": 26,
   "metadata": {},
   "outputs": [
    {
     "data": {
      "image/png": "[encoded data removed]",
      "text/plain": [
       "<Figure size 576x360 with 1 Axes>"
      ]
     },
     "metadata": {
      "needs_background": "light"
     },
     "output_type": "display_data"
    }
   ],
   "source": [
    "binsize = 1\n",
    "bins = np.arange(0, dur_min_noout.duration_min.max() + binsize, binsize)\n",
    "\n",
    "histogram(dur_min_noout.duration_min, bins, 'Bike trip duration (minutes)', 'Count')"
   ]
  },
  {
   "cell_type": "markdown",
   "metadata": {},
   "source": [
    "From the graph, we can see that the distribution is still right skewed eventhough 2,224 outliers have been removed. The highest bike rent duration is between 5 to 10 minutes."
   ]
  },
  {
   "cell_type": "markdown",
   "metadata": {},
   "source": [
    "<b>2. Construct 'user_type' bar chart:</b>"
   ]
  },
  {
   "cell_type": "code",
   "execution_count": 27,
   "metadata": {},
   "outputs": [
    {
     "data": {
      "text/plain": [
       "subscriber    27436\n",
       "customer       2926\n",
       "Name: user_type, dtype: int64"
      ]
     },
     "execution_count": 27,
     "metadata": {},
     "output_type": "execute_result"
    }
   ],
   "source": [
    "user_count = bike_clean.user_type.value_counts()\n",
    "user_count"
   ]
  },
  {
   "cell_type": "code",
   "execution_count": 28,
   "metadata": {},
   "outputs": [
    {
     "data": {
      "image/png": "[encoded data removed]",
      "text/plain": [
       "<Figure size 432x288 with 1 Axes>"
      ]
     },
     "metadata": {
      "needs_background": "light"
     },
     "output_type": "display_data"
    }
   ],
   "source": [
    "barchart(bike_clean.user_type, 'User type', 'User type counts')"
   ]
  },
  {
   "cell_type": "markdown",
   "metadata": {},
   "source": [
    "Major users are already Lyft subscribers which accounts for 90.36% of total bike sharing users in cleaned dataset."
   ]
  },
  {
   "cell_type": "markdown",
   "metadata": {},
   "source": [
    "<b>3. Construct 'rental_access_method' bar chart:</b>"
   ]
  },
  {
   "cell_type": "code",
   "execution_count": 29,
   "metadata": {},
   "outputs": [
    {
     "data": {
      "text/plain": [
       "app        28847\n",
       "clipper     1515\n",
       "Name: rental_access_method, dtype: int64"
      ]
     },
     "execution_count": 29,
     "metadata": {},
     "output_type": "execute_result"
    }
   ],
   "source": [
    "rental_count = bike_clean.rental_access_method.value_counts()\n",
    "rental_count"
   ]
  },
  {
   "cell_type": "code",
   "execution_count": 30,
   "metadata": {},
   "outputs": [
    {
     "data": {
      "image/png": "[encoded data removed]",
      "text/plain": [
       "<Figure size 432x288 with 1 Axes>"
      ]
     },
     "metadata": {
      "needs_background": "light"
     },
     "output_type": "display_data"
    }
   ],
   "source": [
    "barchart(bike_clean.rental_access_method,'Rental access method', 'Rental access method counts')"
   ]
  },
  {
   "cell_type": "markdown",
   "metadata": {},
   "source": [
    "In cleaned dataset 95% of users access Lyft via application while only 5% use clipper card to unlock the bike."
   ]
  },
  {
   "cell_type": "markdown",
   "metadata": {},
   "source": [
    "<b>4. Find bike users (each from Lyft subscriber and normal customer) that rent the bike longest (in minutes):</b>"
   ]
  },
  {
   "cell_type": "code",
   "execution_count": 31,
   "metadata": {
    "scrolled": true
   },
   "outputs": [
    {
     "data": {
      "text/plain": [
       "user_type\n",
       "subscriber    206.93\n",
       "customer      470.83\n",
       "Name: duration_min, dtype: float64"
      ]
     },
     "execution_count": 31,
     "metadata": {},
     "output_type": "execute_result"
    }
   ],
   "source": [
    "bike_clean.groupby('user_type').duration_min.max()"
   ]
  },
  {
   "cell_type": "markdown",
   "metadata": {},
   "source": [
    "Surprisingly, it is normal customer that rent the bike longest which took 470.83 (7.85 hours) before he/she returned the bike to the station."
   ]
  },
  {
   "cell_type": "markdown",
   "metadata": {},
   "source": [
    "<b>5. Find most visited start and end station name(s):</b>"
   ]
  },
  {
   "cell_type": "code",
   "execution_count": 32,
   "metadata": {},
   "outputs": [
    {
     "data": {
      "text/plain": [
       "San Francisco Caltrain (Townsend St at 4th St)    651\n",
       "Name: start_station_name, dtype: int64"
      ]
     },
     "execution_count": 32,
     "metadata": {},
     "output_type": "execute_result"
    }
   ],
   "source": [
    "bike_clean.start_station_name.value_counts().nlargest(1)"
   ]
  },
  {
   "cell_type": "code",
   "execution_count": 33,
   "metadata": {},
   "outputs": [
    {
     "data": {
      "text/plain": [
       "San Francisco Caltrain (Townsend St at 4th St)    826\n",
       "Name: end_station_name, dtype: int64"
      ]
     },
     "execution_count": 33,
     "metadata": {},
     "output_type": "execute_result"
    }
   ],
   "source": [
    "bike_clean.end_station_name.value_counts().nlargest(1)"
   ]
  },
  {
   "cell_type": "markdown",
   "metadata": {},
   "source": [
    "Both most visited start and end station name is San Francisco Caltrain (Townsend St at 4th St)."
   ]
  },
  {
   "cell_type": "markdown",
   "metadata": {},
   "source": [
    "#### 6. Construct 'start_period' bar chart:"
   ]
  },
  {
   "cell_type": "code",
   "execution_count": 34,
   "metadata": {},
   "outputs": [
    {
     "data": {
      "text/plain": [
       "afternoon    13042\n",
       "morning      10223\n",
       "night         7097\n",
       "Name: period_day, dtype: int64"
      ]
     },
     "execution_count": 34,
     "metadata": {},
     "output_type": "execute_result"
    }
   ],
   "source": [
    "period_count = bike_clean.period_day.value_counts()\n",
    "period_count"
   ]
  },
  {
   "cell_type": "code",
   "execution_count": 35,
   "metadata": {},
   "outputs": [
    {
     "data": {
      "image/png": "[encoded data removed]",
      "text/plain": [
       "<Figure size 432x288 with 1 Axes>"
      ]
     },
     "metadata": {
      "needs_background": "light"
     },
     "output_type": "display_data"
    }
   ],
   "source": [
    "barchart(bike_clean.period_day,'Period day', 'Period day count')"
   ]
  },
  {
   "cell_type": "markdown",
   "metadata": {},
   "source": [
    "Contrary to above hypothesis, most bike users rented the bike in the afternoon."
   ]
  },
  {
   "cell_type": "code",
   "execution_count": 36,
   "metadata": {},
   "outputs": [
    {
     "data": {
      "text/plain": [
       "17    3651\n",
       "8     2915\n",
       "18    2838\n",
       "16    2593\n",
       "9     2034\n",
       "15    1922\n",
       "19    1794\n",
       "14    1690\n",
       "12    1599\n",
       "13    1587\n",
       "7     1576\n",
       "11    1313\n",
       "10    1191\n",
       "20    1029\n",
       "21     706\n",
       "6      550\n",
       "22     469\n",
       "23     261\n",
       "5      203\n",
       "0      200\n",
       "1       86\n",
       "4       55\n",
       "2       52\n",
       "3       48\n",
       "Name: start_hour, dtype: int64"
      ]
     },
     "execution_count": 36,
     "metadata": {},
     "output_type": "execute_result"
    }
   ],
   "source": [
    "start_hr_count = bike_clean.start_hour.value_counts()\n",
    "start_hr_count"
   ]
  },
  {
   "cell_type": "code",
   "execution_count": 37,
   "metadata": {},
   "outputs": [
    {
     "data": {
      "image/png": "[encoded data removed]",
      "text/plain": [
       "<Figure size 432x288 with 1 Axes>"
      ]
     },
     "metadata": {
      "needs_background": "light"
     },
     "output_type": "display_data"
    }
   ],
   "source": [
    "barchart(bike_clean.start_hour,'Start hour (24 hour period)', 'Start hour count')"
   ]
  },
  {
   "cell_type": "markdown",
   "metadata": {},
   "source": [
    "Looking at the time that most rental usage occurred. Bike users usually rented the bike in rush hour period as top 5 bike rent start time is in the late afternoon (4-5 p.m.), morning (8-9 a.m.) and evening (6 p.m.)."
   ]
  },
  {
   "cell_type": "markdown",
   "metadata": {},
   "source": [
    "### Discuss the distribution(s) of your variable(s) of interest. Were there any unusual points? Did you need to perform any transformations?\n",
    "\n",
    "> For duration_min, though there are 2,224 outliers in cleaned dataset both before removing outliers and after removing outliers have right skewed distribution. I decided not to perform any transformations as I think it is normal to have unusual ride duration as some customers might have to run some errands before returning the bike to the nearest bike station.\n",
    "\n",
    "> After performing some EDAs, most customers are Lyft subscribers and mainly access bike sharing system via application. The prior hypothesis that subscribers tend to rent bike longer is contrary to findings that the highest bike duration in minutes (470.83 minutes) is made from normal customers.\n",
    "\n",
    "> The most visited start and end station name is the same which is San Francisco Caltrain (Townsend St at 4th St) which is near SF Oakland Bay Bridge, not Golden Gat Bridge. Afternoon is the highest time period that bike users rented a bike.\n",
    "\n",
    "### Of the features you investigated, were there any unusual distributions? Did you perform any operations on the data to tidy, adjust, or change the form of the data? If so, why did you do this?\n",
    "\n",
    "> The distribution of interested feature is not unexpected while feature engineering (add 'duration_min', 'start_hour' and 'period_day' columns in cleaned dataset) is done in preliminary wrangling stage for further explorations.\n",
    "\n",
    "#### Note: For latitudes and longitude, the author thinks that it is best to explore relationships in scatterplot, which will be introduced in the next section."
   ]
  },
  {
   "cell_type": "markdown",
   "metadata": {},
   "source": [
    "## Bivariate Exploration"
   ]
  },
  {
   "cell_type": "markdown",
   "metadata": {},
   "source": [
    "<b>1. Let's look at the pairwise correlations between features in the cleaned dataset</b>"
   ]
  },
  {
   "cell_type": "code",
   "execution_count": 38,
   "metadata": {},
   "outputs": [
    {
     "data": {
      "text/html": [
       "<div>\n",
       "<style scoped>\n",
       "    .dataframe tbody tr th:only-of-type {\n",
       "        vertical-align: middle;\n",
       "    }\n",
       "\n",
       "    .dataframe tbody tr th {\n",
       "        vertical-align: top;\n",
       "    }\n",
       "\n",
       "    .dataframe thead th {\n",
       "        text-align: right;\n",
       "    }\n",
       "</style>\n",
       "<table border=\"1\" class=\"dataframe\">\n",
       "  <thead>\n",
       "    <tr style=\"text-align: right;\">\n",
       "      <th></th>\n",
       "      <th>start_time</th>\n",
       "      <th>end_time</th>\n",
       "      <th>start_station_name</th>\n",
       "      <th>start_station_latitude</th>\n",
       "      <th>start_station_longitude</th>\n",
       "      <th>end_station_name</th>\n",
       "      <th>end_station_latitude</th>\n",
       "      <th>end_station_longitude</th>\n",
       "      <th>bike_id</th>\n",
       "      <th>user_type</th>\n",
       "      <th>rental_access_method</th>\n",
       "      <th>duration_min</th>\n",
       "      <th>start_hour</th>\n",
       "      <th>period_day</th>\n",
       "    </tr>\n",
       "  </thead>\n",
       "  <tbody>\n",
       "    <tr>\n",
       "      <th>63542</th>\n",
       "      <td>2020-03-31 15:23:58</td>\n",
       "      <td>2020-03-31 15:53:30</td>\n",
       "      <td>Willow St at Blewett Ave</td>\n",
       "      <td>37.309014</td>\n",
       "      <td>-121.900011</td>\n",
       "      <td>Willow St at Blewett Ave</td>\n",
       "      <td>37.309014</td>\n",
       "      <td>-121.900011</td>\n",
       "      <td>480691</td>\n",
       "      <td>subscriber</td>\n",
       "      <td>app</td>\n",
       "      <td>29.53</td>\n",
       "      <td>15</td>\n",
       "      <td>afternoon</td>\n",
       "    </tr>\n",
       "    <tr>\n",
       "      <th>63543</th>\n",
       "      <td>2020-03-26 16:24:05</td>\n",
       "      <td>2020-03-26 16:36:23</td>\n",
       "      <td>Willow St at Blewett Ave</td>\n",
       "      <td>37.309014</td>\n",
       "      <td>-121.900011</td>\n",
       "      <td>San Jose City Hall</td>\n",
       "      <td>37.337391</td>\n",
       "      <td>-121.886995</td>\n",
       "      <td>237580</td>\n",
       "      <td>subscriber</td>\n",
       "      <td>app</td>\n",
       "      <td>12.28</td>\n",
       "      <td>16</td>\n",
       "      <td>afternoon</td>\n",
       "    </tr>\n",
       "    <tr>\n",
       "      <th>63545</th>\n",
       "      <td>2020-03-15 18:51:36</td>\n",
       "      <td>2020-03-15 18:55:50</td>\n",
       "      <td>Willow St at Blewett Ave</td>\n",
       "      <td>37.309014</td>\n",
       "      <td>-121.900011</td>\n",
       "      <td>Delmas Ave at Virginia St</td>\n",
       "      <td>37.319757</td>\n",
       "      <td>-121.892999</td>\n",
       "      <td>239732</td>\n",
       "      <td>subscriber</td>\n",
       "      <td>app</td>\n",
       "      <td>4.22</td>\n",
       "      <td>18</td>\n",
       "      <td>night</td>\n",
       "    </tr>\n",
       "  </tbody>\n",
       "</table>\n",
       "</div>"
      ],
      "text/plain": [
       "               start_time            end_time        start_station_name  \\\n",
       "63542 2020-03-31 15:23:58 2020-03-31 15:53:30  Willow St at Blewett Ave   \n",
       "63543 2020-03-26 16:24:05 2020-03-26 16:36:23  Willow St at Blewett Ave   \n",
       "63545 2020-03-15 18:51:36 2020-03-15 18:55:50  Willow St at Blewett Ave   \n",
       "\n",
       "       start_station_latitude  start_station_longitude  \\\n",
       "63542               37.309014              -121.900011   \n",
       "63543               37.309014              -121.900011   \n",
       "63545               37.309014              -121.900011   \n",
       "\n",
       "                end_station_name  end_station_latitude  end_station_longitude  \\\n",
       "63542   Willow St at Blewett Ave             37.309014            -121.900011   \n",
       "63543         San Jose City Hall             37.337391            -121.886995   \n",
       "63545  Delmas Ave at Virginia St             37.319757            -121.892999   \n",
       "\n",
       "      bike_id   user_type rental_access_method  duration_min  start_hour  \\\n",
       "63542  480691  subscriber                  app         29.53          15   \n",
       "63543  237580  subscriber                  app         12.28          16   \n",
       "63545  239732  subscriber                  app          4.22          18   \n",
       "\n",
       "      period_day  \n",
       "63542  afternoon  \n",
       "63543  afternoon  \n",
       "63545      night  "
      ]
     },
     "execution_count": 38,
     "metadata": {},
     "output_type": "execute_result"
    }
   ],
   "source": [
    "bike_clean.head(3)"
   ]
  },
  {
   "cell_type": "code",
   "execution_count": 39,
   "metadata": {},
   "outputs": [],
   "source": [
    "# Categorize variables into numeric and categorical:\n",
    "numeric_var = ['duration_min', 'start_hour', 'start_station_latitude', \n",
    "                'start_station_longitude', 'end_station_latitude', 'end_station_longitude']\n",
    "categorical_var = ['user_type', 'rental_access_method', 'period_day']"
   ]
  },
  {
   "cell_type": "code",
   "execution_count": 40,
   "metadata": {},
   "outputs": [
    {
     "data": {
      "image/png": "[encoded data removed]",
      "text/plain": [
       "<Figure size 576x360 with 2 Axes>"
      ]
     },
     "metadata": {
      "needs_background": "light"
     },
     "output_type": "display_data"
    }
   ],
   "source": [
    "# Plot correlation plot:\n",
    "plt.figure(figsize = [8, 5])\n",
    "sns.heatmap(bike_clean[numeric_var].corr(), annot = True, fmt = '.2f',\n",
    "           cmap = 'coolwarm', center = 0)\n",
    "plt.show();"
   ]
  },
  {
   "cell_type": "markdown",
   "metadata": {},
   "source": [
    "Both latitudes and longitudes of start and end station is negatively correlated (Dark blue color). This makes sense as both start and end latitude is positive numbers while it is opposite for longitude numbers."
   ]
  },
  {
   "cell_type": "markdown",
   "metadata": {},
   "source": [
    "<b>2. Scatterplot of latitudes and longitudes</b>"
   ]
  },
  {
   "cell_type": "markdown",
   "metadata": {},
   "source": [
    "##### Build scatterplot function to reduce code repetition:"
   ]
  },
  {
   "cell_type": "code",
   "execution_count": 41,
   "metadata": {},
   "outputs": [],
   "source": [
    "def scatterplot(x_input, y_input, xtick, ytick, xlab, ylab):\n",
    "    plt.figure(figsize=[6,4])\n",
    "    plt.scatter(data = bike_clean, x = x_input, y = y_input, alpha = 0.5/10)\n",
    "    plt.xticks(xtick, rotation = 45)\n",
    "    plt.yticks(ytick)\n",
    "    plt.xlabel(xlab)\n",
    "    plt.ylabel(ylab)\n",
    "    plt.show();"
   ]
  },
  {
   "cell_type": "code",
   "execution_count": 42,
   "metadata": {},
   "outputs": [
    {
     "data": {
      "image/png": "[encoded data removed]",
      "text/plain": [
       "<Figure size 432x288 with 1 Axes>"
      ]
     },
     "metadata": {
      "needs_background": "light"
     },
     "output_type": "display_data"
    }
   ],
   "source": [
    "# Start station latitude and longtitude scatterplot:\n",
    "x_range = np.arange(37.3, 37.85, 0.05)\n",
    "y_range = np.arange(-122.6, -121.7, 0.1)\n",
    "\n",
    "scatterplot('start_station_latitude', 'start_station_longitude', x_range, y_range, 'Start station latitude', 'Start station latitude')"
   ]
  },
  {
   "cell_type": "markdown",
   "metadata": {},
   "source": [
    "From scatterplot, there are 2 main clusters for start latitudes and longitudes. The first cluster have latitude values between 37.3 to 37.4 and longitude values between -121.95 to -121.85. The second cluster have higher latitude values: 37.75 to almost 37.81 but lower longitude: -122.55 to -122.35."
   ]
  },
  {
   "cell_type": "code",
   "execution_count": 43,
   "metadata": {
    "scrolled": true
   },
   "outputs": [
    {
     "data": {
      "image/png": "[encoded data removed]",
      "text/plain": [
       "<Figure size 432x288 with 1 Axes>"
      ]
     },
     "metadata": {
      "needs_background": "light"
     },
     "output_type": "display_data"
    }
   ],
   "source": [
    "# End station latitude and longtitude scatterplot:\n",
    "x_range = np.arange(37.3, 37.85, 0.05)\n",
    "y_range = np.arange(-122.6, -87, 5)\n",
    "\n",
    "scatterplot('end_station_latitude', 'end_station_longitude', x_range, y_range, 'End station latitude', 'End station latitude')"
   ]
  },
  {
   "cell_type": "markdown",
   "metadata": {},
   "source": [
    "Like start latitudes and longitudes, there are 2 main clusters for end latitudes and longitudes as well. However there is 1 outlier that has longitude much higher than the 2 clusters. This station is '16th Depot Bike Fleet Station' that the author has imputed the missing latitude and longitude numbers from the internet.\n",
    "\n",
    "> The reason that there are clusters in both scatterplots is because latitude and longitude numbers differ in very small decimal units as the area of interest is only in SF. Therefore it is normal to have dense cluster volumes on both graphs."
   ]
  },
  {
   "cell_type": "markdown",
   "metadata": {},
   "source": [
    "<b>3. Relationship between 2 categorical variables: user_type and rental_access_method</b>"
   ]
  },
  {
   "cell_type": "code",
   "execution_count": 44,
   "metadata": {
    "scrolled": true
   },
   "outputs": [
    {
     "data": {
      "text/plain": [
       "user_type   rental_access_method\n",
       "subscriber  app                     25971\n",
       "            clipper                  1465\n",
       "customer    app                      2876\n",
       "            clipper                    50\n",
       "Name: rental_access_method, dtype: int64"
      ]
     },
     "execution_count": 44,
     "metadata": {},
     "output_type": "execute_result"
    }
   ],
   "source": [
    "bike_clean.groupby('user_type').rental_access_method.value_counts()"
   ]
  },
  {
   "cell_type": "code",
   "execution_count": 45,
   "metadata": {},
   "outputs": [
    {
     "data": {
      "image/png": "[encoded data removed]",
      "text/plain": [
       "<Figure size 432x288 with 1 Axes>"
      ]
     },
     "metadata": {
      "needs_background": "light"
     },
     "output_type": "display_data"
    }
   ],
   "source": [
    "# user_type vs. rental_access_method:\n",
    "plt.figure(figsize = [6, 4])\n",
    "\n",
    "sns.countplot(data = bike_clean, x = 'user_type', hue = 'rental_access_method', palette = 'Blues')\n",
    "plt.xlabel('User types')\n",
    "plt.ylabel('Count');"
   ]
  },
  {
   "cell_type": "markdown",
   "metadata": {},
   "source": [
    "From bar graph and groupby summary, the majority of bike users - subscribers access bike service via app which is in the same fashion with normal customer. Clipper seems to be not as popular as Lyft application. "
   ]
  },
  {
   "cell_type": "markdown",
   "metadata": {},
   "source": [
    "<b>4. Subscriber and customer value counts</b>"
   ]
  },
  {
   "cell_type": "code",
   "execution_count": 46,
   "metadata": {},
   "outputs": [],
   "source": [
    "# Subset bike_clean dataframe into 2 user types: subscribers and customers\n",
    "sub_user = bike_clean[bike_clean.user_type == 'subscriber']\n",
    "cus_user = bike_clean[bike_clean.user_type == 'customer']"
   ]
  },
  {
   "cell_type": "code",
   "execution_count": 47,
   "metadata": {},
   "outputs": [
    {
     "data": {
      "image/png": "[encoded data removed]",
      "text/plain": [
       "<Figure size 432x288 with 1 Axes>"
      ]
     },
     "metadata": {
      "needs_background": "light"
     },
     "output_type": "display_data"
    }
   ],
   "source": [
    "# Plot histogram of 2 user types in 1 graph:\n",
    "plt.hist([sub_user.duration_min, cus_user.duration_min], bins = 20, label=['sub_user', 'cus_user'])\n",
    "plt.legend(loc ='upper right')\n",
    "plt.xlabel('Duration (minutes)')\n",
    "plt.ylabel('Count')\n",
    "plt.show();"
   ]
  },
  {
   "cell_type": "markdown",
   "metadata": {},
   "source": [
    "Both Lyft subscribers and normal customer bar graphs show that the majority of users rent and return the bike within 20-40 minutes. Only a few rent the bike for long time period (more than 1 hour)."
   ]
  },
  {
   "cell_type": "markdown",
   "metadata": {},
   "source": [
    "<b>5. Horizontal strip plot of start period and duration in minutes:</b>"
   ]
  },
  {
   "cell_type": "code",
   "execution_count": 53,
   "metadata": {},
   "outputs": [
    {
     "data": {
      "image/png": "[encoded data removed]",
      "text/plain": [
       "<Figure size 432x288 with 1 Axes>"
      ]
     },
     "metadata": {
      "needs_background": "light"
     },
     "output_type": "display_data"
    }
   ],
   "source": [
    "sns.stripplot(x = 'duration_min', y = 'period_day', data = bike_clean)\n",
    "plt.xticks(np.arange(0, 500, 50))\n",
    "plt.xlabel('Ride Duration (minutes)')\n",
    "plt.ylabel('Period of the day');"
   ]
  },
  {
   "cell_type": "markdown",
   "metadata": {},
   "source": [
    "Unsurprisingly, though there is an outlier afternoon is the period that has the longest duration per ride (in minutes) and period with highest number of bike rents. This supports prior findings in univariate exploration that most bike users rented the bike in the afternoon. Therefore it is possible to find higher number of bike rents with long duration in that period of time."
   ]
  },
  {
   "cell_type": "markdown",
   "metadata": {},
   "source": [
    "### Talk about some of the relationships you observed in this part of the investigation. How did the feature(s) of interest vary with other features in the dataset?\n",
    "\n",
    "> Looking at correlation matrix, new findings supports my intuition that 'duration_min' has weak correlation with other numeric variables. This makes sense as bike rent duration is irrelevant to bike rent's start time and geolocation (i.e. latitudes and longitudes). Also in pairred histograms, most bike rent durations take less than 1 hour which supports prior findings in univariate exploration.\n",
    "\n",
    "### Did you observe any interesting relationships between the other features (not the main feature(s) of interest)?\n",
    "\n",
    "> Identical to my intuition, latitudes and longtitudes of start and end station are negatively correlated as the number signs of these two variables are opposite to each other (positive and negative numeric signs)."
   ]
  },
  {
   "cell_type": "markdown",
   "metadata": {},
   "source": [
    "## Multivariate Exploration\n",
    "\n",
    "> I will mainly explore relationships between duration (minutes) and other 3 categorical variables: 'user_types', 'rental_access_method' and 'period_day' more."
   ]
  },
  {
   "cell_type": "markdown",
   "metadata": {},
   "source": [
    "<b>1. Relationships between 2 categorical variables: 'user_type' and 'rental_access_method' and 1 numeric variable: 'duration_min'</b>"
   ]
  },
  {
   "cell_type": "code",
   "execution_count": 49,
   "metadata": {},
   "outputs": [
    {
     "data": {
      "image/png": "[encoded data removed]",
      "text/plain": [
       "<Figure size 432x216 with 2 Axes>"
      ]
     },
     "metadata": {
      "needs_background": "light"
     },
     "output_type": "display_data"
    }
   ],
   "source": [
    "base_color = sns.color_palette()[1]\n",
    "\n",
    "g = sns.FacetGrid(data = bike_clean, col = 'rental_access_method')\n",
    "g.map(sns.boxplot, 'user_type', 'duration_min', color = base_color)\n",
    "g.set_axis_labels('User type', 'Duration (minutes)')\n",
    "g.set_titles('Rental access method: {col_name}');"
   ]
  },
  {
   "cell_type": "markdown",
   "metadata": {},
   "source": [
    "From above visualization, normal customer that access Lyft bike rent service via application has the highest IQR range while other 3 groups has approximately the same IQR range. Customer who rent the bike longest (470.83 minutes: highest outlier value in bike_clean) is also the one that access Lyft bike rent service via application."
   ]
  },
  {
   "cell_type": "markdown",
   "metadata": {},
   "source": [
    "<b>2. Relationships between 3 categorical variables: 'user_type', 'rental_access_method' and 'start_hour'</b>"
   ]
  },
  {
   "cell_type": "code",
   "execution_count": 50,
   "metadata": {},
   "outputs": [
    {
     "data": {
      "image/png": "[encoded data removed]",
      "text/plain": [
       "<Figure size 839.625x360 with 2 Axes>"
      ]
     },
     "metadata": {
      "needs_background": "light"
     },
     "output_type": "display_data"
    }
   ],
   "source": [
    "p = sns.catplot(data = bike_clean, x = 'start_hour', col = \"user_type\", hue = \"rental_access_method\", kind = 'count', sharey = False)\n",
    "p.set_axis_labels(\"Start rent hour (0-23)\", \"Count\")\n",
    "p._legend.set_title('Rental Access Method')\n",
    "p.set_titles(\"{col_name}\");"
   ]
  },
  {
   "cell_type": "markdown",
   "metadata": {},
   "source": [
    "We can see much clearer trend on users who access the service via application since there is much more users access Lyft via an application than clipper. The findings are consistent with prior findings that the time that users who uses application rent the bike most is on 5 p.m. (color: blue) regardless whether they are Lyft subscribers or normal users. Unlike users who access the services via application, there is quite unclear trend to clipper users (color: orange) as the graphs for both user types ado not show any peak area."
   ]
  },
  {
   "cell_type": "markdown",
   "metadata": {},
   "source": [
    "### Talk about some of the relationships you observed in this part of the investigation. Were there features that strengthened each other in terms of looking at your feature(s) of interest?\n",
    "\n",
    "> For this section, the findings on the plotted graph support my findings in the previous section more. The findings that normal customers rent the bike longer compared to subscribers though there is more number of subscribers and he time that users who uses application rent the bike most is on 5 p.m. regardless of user types are also found on this section.\n",
    "\n",
    "### Were there any interesting or surprising interactions between features?\n",
    "\n",
    "> There is no new surprising interactions as the vairables that I am interested in is numeric and categorical in this case."
   ]
  }
 ],
 "metadata": {
  "kernelspec": {
   "display_name": "Python 3",
   "language": "python",
   "name": "python3"
  },
  "language_info": {
   "codemirror_mode": {
    "name": "ipython",
    "version": 3
   },
   "file_extension": ".py",
   "mimetype": "text/x-python",
   "name": "python",
   "nbconvert_exporter": "python",
   "pygments_lexer": "ipython3",
   "version": "3.7.6"
  }
 },
 "nbformat": 4,
 "nbformat_minor": 2
}
